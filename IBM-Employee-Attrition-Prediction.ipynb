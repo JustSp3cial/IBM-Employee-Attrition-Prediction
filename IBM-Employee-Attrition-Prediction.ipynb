{
 "cells": [
  {
   "cell_type": "markdown",
   "metadata": {},
   "source": [
    "## IBM HR Analytics Employee Attrition Modeling .\n",
    "DESCRIPTION\n",
    "\n",
    "IBM is an American MNC operating in around 170 countries with major business vertical as computing, software, and hardware.\n",
    "Attrition is a major risk to service-providing organizations where trained and experienced people are the assets of the company. The organization would like to identify the factors which influence the attrition of employees.\n",
    "\n",
    "**Data Dictionary**\n",
    "\n",
    "Age: Age of employee <br>\n",
    "Attrition: Employee attrition status <br>\n",
    "Department: Department of work\n",
    "DistanceFromHome <br>\n",
    "Education: 1-Below College; 2- College; 3-Bachelor; 4-Master; 5-Doctor;<br>\n",
    "EducationField <br>\n",
    "EnvironmentSatisfaction: 1-Low; 2-Medium; 3-High; 4-Very High; <br>\n",
    "JobSatisfaction: 1-Low; 2-Medium; 3-High; 4-Very High; <br>\n",
    "MaritalStatus <br>\n",
    "MonthlyIncome <br>\n",
    "NumCompaniesWorked: Number of companies worked prior to IBM <br>\n",
    "WorkLifeBalance: 1-Bad; 2-Good; 3-Better; 4-Best; <br>\n",
    "YearsAtCompany: Current years of service in IBM   <br>\n",
    "\n",
    "**Analysis Task:**\n",
    "1: Import attrition dataset and import libraries such as pandas, matplotlib.pyplot, numpy, and seaborn.<br>\n",
    "2: Exploratory data analysis <br>\n",
    "3: Find the age distribution of employees in IBM <br>\n",
    "4: Explore attrition by age<br>\n",
    "5: Explore data for Left employees <br>\n",
    "6: Find out the distribution of employees by the education field <br>\n",
    "7: Give a bar chart for the number of married and unmarried employees <br>\n",
    "8: Build up a logistic regression model to predict which employees are likely to attrite.\n"
   ]
  },
  {
   "cell_type": "code",
   "execution_count": 54,
   "metadata": {},
   "outputs": [],
   "source": [
    "import numpy as np \n",
    "import pandas as pd \n",
    "import tensorflow as tf\n",
    "import matplotlib.pyplot as plt\n",
    "%matplotlib inline\n",
    "from patsy import dmatrices\n",
    "import sklearn\n",
    "import seaborn as sns"
   ]
  },
  {
   "cell_type": "code",
   "execution_count": 55,
   "metadata": {},
   "outputs": [],
   "source": [
    "df = pd.read_csv(\"IBM-Attrition-Data.csv\")"
   ]
  },
  {
   "cell_type": "code",
   "execution_count": 56,
   "metadata": {},
   "outputs": [
    {
     "data": {
      "text/html": [
       "<div>\n",
       "<style scoped>\n",
       "    .dataframe tbody tr th:only-of-type {\n",
       "        vertical-align: middle;\n",
       "    }\n",
       "\n",
       "    .dataframe tbody tr th {\n",
       "        vertical-align: top;\n",
       "    }\n",
       "\n",
       "    .dataframe thead th {\n",
       "        text-align: right;\n",
       "    }\n",
       "</style>\n",
       "<table border=\"1\" class=\"dataframe\">\n",
       "  <thead>\n",
       "    <tr style=\"text-align: right;\">\n",
       "      <th></th>\n",
       "      <th>Age</th>\n",
       "      <th>Attrition</th>\n",
       "      <th>Department</th>\n",
       "      <th>DistanceFromHome</th>\n",
       "      <th>Education</th>\n",
       "      <th>EducationField</th>\n",
       "      <th>EnvironmentSatisfaction</th>\n",
       "      <th>JobSatisfaction</th>\n",
       "      <th>MaritalStatus</th>\n",
       "      <th>MonthlyIncome</th>\n",
       "      <th>NumCompaniesWorked</th>\n",
       "      <th>WorkLifeBalance</th>\n",
       "      <th>YearsAtCompany</th>\n",
       "    </tr>\n",
       "  </thead>\n",
       "  <tbody>\n",
       "    <tr>\n",
       "      <th>0</th>\n",
       "      <td>41</td>\n",
       "      <td>Yes</td>\n",
       "      <td>Sales</td>\n",
       "      <td>1</td>\n",
       "      <td>2</td>\n",
       "      <td>Life Sciences</td>\n",
       "      <td>2</td>\n",
       "      <td>4</td>\n",
       "      <td>Single</td>\n",
       "      <td>5993</td>\n",
       "      <td>8</td>\n",
       "      <td>1</td>\n",
       "      <td>6</td>\n",
       "    </tr>\n",
       "    <tr>\n",
       "      <th>1</th>\n",
       "      <td>49</td>\n",
       "      <td>No</td>\n",
       "      <td>Research &amp; Development</td>\n",
       "      <td>8</td>\n",
       "      <td>1</td>\n",
       "      <td>Life Sciences</td>\n",
       "      <td>3</td>\n",
       "      <td>2</td>\n",
       "      <td>Married</td>\n",
       "      <td>5130</td>\n",
       "      <td>1</td>\n",
       "      <td>3</td>\n",
       "      <td>10</td>\n",
       "    </tr>\n",
       "    <tr>\n",
       "      <th>2</th>\n",
       "      <td>37</td>\n",
       "      <td>Yes</td>\n",
       "      <td>Research &amp; Development</td>\n",
       "      <td>2</td>\n",
       "      <td>2</td>\n",
       "      <td>Other</td>\n",
       "      <td>4</td>\n",
       "      <td>3</td>\n",
       "      <td>Single</td>\n",
       "      <td>2090</td>\n",
       "      <td>6</td>\n",
       "      <td>3</td>\n",
       "      <td>0</td>\n",
       "    </tr>\n",
       "    <tr>\n",
       "      <th>3</th>\n",
       "      <td>33</td>\n",
       "      <td>No</td>\n",
       "      <td>Research &amp; Development</td>\n",
       "      <td>3</td>\n",
       "      <td>4</td>\n",
       "      <td>Life Sciences</td>\n",
       "      <td>4</td>\n",
       "      <td>3</td>\n",
       "      <td>Married</td>\n",
       "      <td>2909</td>\n",
       "      <td>1</td>\n",
       "      <td>3</td>\n",
       "      <td>8</td>\n",
       "    </tr>\n",
       "    <tr>\n",
       "      <th>4</th>\n",
       "      <td>27</td>\n",
       "      <td>No</td>\n",
       "      <td>Research &amp; Development</td>\n",
       "      <td>2</td>\n",
       "      <td>1</td>\n",
       "      <td>Medical</td>\n",
       "      <td>1</td>\n",
       "      <td>2</td>\n",
       "      <td>Married</td>\n",
       "      <td>3468</td>\n",
       "      <td>9</td>\n",
       "      <td>3</td>\n",
       "      <td>2</td>\n",
       "    </tr>\n",
       "  </tbody>\n",
       "</table>\n",
       "</div>"
      ],
      "text/plain": [
       "   Age Attrition              Department  DistanceFromHome  Education  \\\n",
       "0   41       Yes                   Sales                 1          2   \n",
       "1   49        No  Research & Development                 8          1   \n",
       "2   37       Yes  Research & Development                 2          2   \n",
       "3   33        No  Research & Development                 3          4   \n",
       "4   27        No  Research & Development                 2          1   \n",
       "\n",
       "  EducationField  EnvironmentSatisfaction  JobSatisfaction MaritalStatus  \\\n",
       "0  Life Sciences                        2                4        Single   \n",
       "1  Life Sciences                        3                2       Married   \n",
       "2          Other                        4                3        Single   \n",
       "3  Life Sciences                        4                3       Married   \n",
       "4        Medical                        1                2       Married   \n",
       "\n",
       "   MonthlyIncome  NumCompaniesWorked  WorkLifeBalance  YearsAtCompany  \n",
       "0           5993                   8                1               6  \n",
       "1           5130                   1                3              10  \n",
       "2           2090                   6                3               0  \n",
       "3           2909                   1                3               8  \n",
       "4           3468                   9                3               2  "
      ]
     },
     "execution_count": 56,
     "metadata": {},
     "output_type": "execute_result"
    }
   ],
   "source": [
    "df.head()"
   ]
  },
  {
   "cell_type": "code",
   "execution_count": 59,
   "metadata": {},
   "outputs": [
    {
     "name": "stdout",
     "output_type": "stream",
     "text": [
      "<class 'pandas.core.frame.DataFrame'>\n",
      "RangeIndex: 1470 entries, 0 to 1469\n",
      "Data columns (total 13 columns):\n",
      " #   Column                   Non-Null Count  Dtype \n",
      "---  ------                   --------------  ----- \n",
      " 0   Age                      1470 non-null   int64 \n",
      " 1   Attrition                1470 non-null   object\n",
      " 2   Department               1470 non-null   object\n",
      " 3   DistanceFromHome         1470 non-null   int64 \n",
      " 4   Education                1470 non-null   int64 \n",
      " 5   EducationField           1470 non-null   object\n",
      " 6   EnvironmentSatisfaction  1470 non-null   int64 \n",
      " 7   JobSatisfaction          1470 non-null   int64 \n",
      " 8   MaritalStatus            1470 non-null   object\n",
      " 9   MonthlyIncome            1470 non-null   int64 \n",
      " 10  NumCompaniesWorked       1470 non-null   int64 \n",
      " 11  WorkLifeBalance          1470 non-null   int64 \n",
      " 12  YearsAtCompany           1470 non-null   int64 \n",
      "dtypes: int64(9), object(4)\n",
      "memory usage: 149.4+ KB\n"
     ]
    }
   ],
   "source": [
    "df.info()"
   ]
  },
  {
   "cell_type": "code",
   "execution_count": 183,
   "metadata": {},
   "outputs": [
    {
     "data": {
      "text/plain": [
       "False"
      ]
     },
     "execution_count": 183,
     "metadata": {},
     "output_type": "execute_result"
    }
   ],
   "source": [
    "# Dataframe any null values\n",
    "df.isnull().values.any()"
   ]
  },
  {
   "cell_type": "code",
   "execution_count": 184,
   "metadata": {},
   "outputs": [
    {
     "data": {
      "text/html": [
       "<div>\n",
       "<style scoped>\n",
       "    .dataframe tbody tr th:only-of-type {\n",
       "        vertical-align: middle;\n",
       "    }\n",
       "\n",
       "    .dataframe tbody tr th {\n",
       "        vertical-align: top;\n",
       "    }\n",
       "\n",
       "    .dataframe thead th {\n",
       "        text-align: right;\n",
       "    }\n",
       "</style>\n",
       "<table border=\"1\" class=\"dataframe\">\n",
       "  <thead>\n",
       "    <tr style=\"text-align: right;\">\n",
       "      <th></th>\n",
       "      <th>Age</th>\n",
       "      <th>Attrition</th>\n",
       "      <th>DistanceFromHome</th>\n",
       "      <th>Education</th>\n",
       "      <th>EnvironmentSatisfaction</th>\n",
       "      <th>JobSatisfaction</th>\n",
       "      <th>MonthlyIncome</th>\n",
       "      <th>NumCompaniesWorked</th>\n",
       "      <th>WorkLifeBalance</th>\n",
       "      <th>YearsAtCompany</th>\n",
       "    </tr>\n",
       "  </thead>\n",
       "  <tbody>\n",
       "    <tr>\n",
       "      <th>count</th>\n",
       "      <td>1470.000000</td>\n",
       "      <td>1470.000000</td>\n",
       "      <td>1470.000000</td>\n",
       "      <td>1470.000000</td>\n",
       "      <td>1470.000000</td>\n",
       "      <td>1470.000000</td>\n",
       "      <td>1470.000000</td>\n",
       "      <td>1470.000000</td>\n",
       "      <td>1470.000000</td>\n",
       "      <td>1470.000000</td>\n",
       "    </tr>\n",
       "    <tr>\n",
       "      <th>mean</th>\n",
       "      <td>36.923810</td>\n",
       "      <td>0.161224</td>\n",
       "      <td>9.192517</td>\n",
       "      <td>2.912925</td>\n",
       "      <td>2.721769</td>\n",
       "      <td>2.728571</td>\n",
       "      <td>6502.931293</td>\n",
       "      <td>2.693197</td>\n",
       "      <td>2.761224</td>\n",
       "      <td>7.008163</td>\n",
       "    </tr>\n",
       "    <tr>\n",
       "      <th>std</th>\n",
       "      <td>9.135373</td>\n",
       "      <td>0.367863</td>\n",
       "      <td>8.106864</td>\n",
       "      <td>1.024165</td>\n",
       "      <td>1.093082</td>\n",
       "      <td>1.102846</td>\n",
       "      <td>4707.956783</td>\n",
       "      <td>2.498009</td>\n",
       "      <td>0.706476</td>\n",
       "      <td>6.126525</td>\n",
       "    </tr>\n",
       "    <tr>\n",
       "      <th>min</th>\n",
       "      <td>18.000000</td>\n",
       "      <td>0.000000</td>\n",
       "      <td>1.000000</td>\n",
       "      <td>1.000000</td>\n",
       "      <td>1.000000</td>\n",
       "      <td>1.000000</td>\n",
       "      <td>1009.000000</td>\n",
       "      <td>0.000000</td>\n",
       "      <td>1.000000</td>\n",
       "      <td>0.000000</td>\n",
       "    </tr>\n",
       "    <tr>\n",
       "      <th>25%</th>\n",
       "      <td>30.000000</td>\n",
       "      <td>0.000000</td>\n",
       "      <td>2.000000</td>\n",
       "      <td>2.000000</td>\n",
       "      <td>2.000000</td>\n",
       "      <td>2.000000</td>\n",
       "      <td>2911.000000</td>\n",
       "      <td>1.000000</td>\n",
       "      <td>2.000000</td>\n",
       "      <td>3.000000</td>\n",
       "    </tr>\n",
       "    <tr>\n",
       "      <th>50%</th>\n",
       "      <td>36.000000</td>\n",
       "      <td>0.000000</td>\n",
       "      <td>7.000000</td>\n",
       "      <td>3.000000</td>\n",
       "      <td>3.000000</td>\n",
       "      <td>3.000000</td>\n",
       "      <td>4919.000000</td>\n",
       "      <td>2.000000</td>\n",
       "      <td>3.000000</td>\n",
       "      <td>5.000000</td>\n",
       "    </tr>\n",
       "    <tr>\n",
       "      <th>75%</th>\n",
       "      <td>43.000000</td>\n",
       "      <td>0.000000</td>\n",
       "      <td>14.000000</td>\n",
       "      <td>4.000000</td>\n",
       "      <td>4.000000</td>\n",
       "      <td>4.000000</td>\n",
       "      <td>8379.000000</td>\n",
       "      <td>4.000000</td>\n",
       "      <td>3.000000</td>\n",
       "      <td>9.000000</td>\n",
       "    </tr>\n",
       "    <tr>\n",
       "      <th>max</th>\n",
       "      <td>60.000000</td>\n",
       "      <td>1.000000</td>\n",
       "      <td>29.000000</td>\n",
       "      <td>5.000000</td>\n",
       "      <td>4.000000</td>\n",
       "      <td>4.000000</td>\n",
       "      <td>19999.000000</td>\n",
       "      <td>9.000000</td>\n",
       "      <td>4.000000</td>\n",
       "      <td>40.000000</td>\n",
       "    </tr>\n",
       "  </tbody>\n",
       "</table>\n",
       "</div>"
      ],
      "text/plain": [
       "               Age    Attrition  DistanceFromHome    Education  \\\n",
       "count  1470.000000  1470.000000       1470.000000  1470.000000   \n",
       "mean     36.923810     0.161224          9.192517     2.912925   \n",
       "std       9.135373     0.367863          8.106864     1.024165   \n",
       "min      18.000000     0.000000          1.000000     1.000000   \n",
       "25%      30.000000     0.000000          2.000000     2.000000   \n",
       "50%      36.000000     0.000000          7.000000     3.000000   \n",
       "75%      43.000000     0.000000         14.000000     4.000000   \n",
       "max      60.000000     1.000000         29.000000     5.000000   \n",
       "\n",
       "       EnvironmentSatisfaction  JobSatisfaction  MonthlyIncome  \\\n",
       "count              1470.000000      1470.000000    1470.000000   \n",
       "mean                  2.721769         2.728571    6502.931293   \n",
       "std                   1.093082         1.102846    4707.956783   \n",
       "min                   1.000000         1.000000    1009.000000   \n",
       "25%                   2.000000         2.000000    2911.000000   \n",
       "50%                   3.000000         3.000000    4919.000000   \n",
       "75%                   4.000000         4.000000    8379.000000   \n",
       "max                   4.000000         4.000000   19999.000000   \n",
       "\n",
       "       NumCompaniesWorked  WorkLifeBalance  YearsAtCompany  \n",
       "count         1470.000000      1470.000000     1470.000000  \n",
       "mean             2.693197         2.761224        7.008163  \n",
       "std              2.498009         0.706476        6.126525  \n",
       "min              0.000000         1.000000        0.000000  \n",
       "25%              1.000000         2.000000        3.000000  \n",
       "50%              2.000000         3.000000        5.000000  \n",
       "75%              4.000000         3.000000        9.000000  \n",
       "max              9.000000         4.000000       40.000000  "
      ]
     },
     "execution_count": 184,
     "metadata": {},
     "output_type": "execute_result"
    }
   ],
   "source": [
    "# Dataframe statistical overview\n",
    "df.describe()"
   ]
  },
  {
   "cell_type": "code",
   "execution_count": 41,
   "metadata": {},
   "outputs": [
    {
     "data": {
      "text/plain": [
       "Age                        0\n",
       "Attrition                  0\n",
       "Department                 0\n",
       "DistanceFromHome           0\n",
       "Education                  0\n",
       "EducationField             0\n",
       "EnvironmentSatisfaction    0\n",
       "JobSatisfaction            0\n",
       "MaritalStatus              0\n",
       "MonthlyIncome              0\n",
       "NumCompaniesWorked         0\n",
       "WorkLifeBalance            0\n",
       "YearsAtCompany             0\n",
       "dtype: int64"
      ]
     },
     "execution_count": 41,
     "metadata": {},
     "output_type": "execute_result"
    }
   ],
   "source": [
    "df.isnull().sum()"
   ]
  },
  {
   "cell_type": "code",
   "execution_count": 60,
   "metadata": {},
   "outputs": [
    {
     "name": "stdout",
     "output_type": "stream",
     "text": [
      "['Age' 'Attrition' 'Department' 'DistanceFromHome' 'Education'\n",
      " 'EducationField' 'EnvironmentSatisfaction' 'JobSatisfaction'\n",
      " 'MaritalStatus' 'MonthlyIncome' 'NumCompaniesWorked' 'WorkLifeBalance'\n",
      " 'YearsAtCompany']\n"
     ]
    }
   ],
   "source": [
    "names = df.columns.values\n",
    "print(names)"
   ]
  },
  {
   "cell_type": "code",
   "execution_count": 62,
   "metadata": {},
   "outputs": [
    {
     "data": {
      "text/plain": [
       "<AxesSubplot:xlabel='Department', ylabel='count'>"
      ]
     },
     "execution_count": 62,
     "metadata": {},
     "output_type": "execute_result"
    },
    {
     "data": {
      "image/png": "[encoded data removed]",
      "text/plain": [
       "<Figure size 720x576 with 1 Axes>"
      ]
     },
     "metadata": {
      "needs_background": "light"
     },
     "output_type": "display_data"
    }
   ],
   "source": [
    "#Plotting Departmentwise attrition\n",
    "plt.figure(figsize=(10,8))\n",
    "sns.countplot(data = df, x = 'Department', hue = 'Attrition')"
   ]
  },
  {
   "cell_type": "code",
   "execution_count": 66,
   "metadata": {},
   "outputs": [
    {
     "data": {
      "text/plain": [
       "<AxesSubplot:xlabel='EnvironmentSatisfaction', ylabel='count'>"
      ]
     },
     "execution_count": 66,
     "metadata": {},
     "output_type": "execute_result"
    },
    {
     "data": {
      "image/png": "[encoded data removed]",
      "text/plain": [
       "<Figure size 720x576 with 1 Axes>"
      ]
     },
     "metadata": {
      "needs_background": "light"
     },
     "output_type": "display_data"
    }
   ],
   "source": [
    "#Agewise attrition\n",
    "plt.figure(figsize=(10,8))\n",
    "sns.countplot(data=df, x ='EnvironmentSatisfaction', hue = 'Attrition')"
   ]
  },
  {
   "cell_type": "code",
   "execution_count": 63,
   "metadata": {},
   "outputs": [
    {
     "data": {
      "image/png": "[encoded data removed]",
      "text/plain": [
       "<Figure size 720x576 with 1 Axes>"
      ]
     },
     "metadata": {
      "needs_background": "light"
     },
     "output_type": "display_data"
    }
   ],
   "source": [
    "# histogram for age\n",
    "plt.figure(figsize=(10,8))\n",
    "df['Age'].hist(bins=70)\n",
    "plt.title(\"Age Distribution of Employees\")\n",
    "plt.xlabel(\"Age\")\n",
    "plt.ylabel(\"# of Employees\")\n",
    "plt.show()"
   ]
  },
  {
   "cell_type": "code",
   "execution_count": 192,
   "metadata": {},
   "outputs": [
    {
     "data": {
      "image/png": "[encoded data removed]",
      "text/plain": [
       "<Figure size 1440x576 with 1 Axes>"
      ]
     },
     "metadata": {
      "needs_background": "light"
     },
     "output_type": "display_data"
    }
   ],
   "source": [
    "# Show attrition by age\n",
    "plt.subplots(figsize=(20,8))\n",
    "sns.countplot(x=\"Age\", hue=\"Attrition\", data=df, palette='colorblind').set(title='Attrition by Age');\n",
    "plt.show()"
   ]
  },
  {
   "cell_type": "code",
   "execution_count": 52,
   "metadata": {},
   "outputs": [
    {
     "data": {
      "image/png": "[encoded data removed]",
      "text/plain": [
       "<Figure size 576x432 with 1 Axes>"
      ]
     },
     "metadata": {
      "needs_background": "light"
     },
     "output_type": "display_data"
    }
   ],
   "source": [
    "# explore data for Left employees breakdown\n",
    "plt.figure(figsize=(8,6))\n",
    "df.Attrition.value_counts().plot(kind='barh',color='blue',alpha=.65)\n",
    "plt.title(\"Attrition breakdown \")\n",
    "plt.show()"
   ]
  },
  {
   "cell_type": "code",
   "execution_count": 80,
   "metadata": {},
   "outputs": [
    {
     "data": {
      "image/png": "[encoded data removed]",
      "text/plain": [
       "<Figure size 720x576 with 1 Axes>"
      ]
     },
     "metadata": {
      "needs_background": "light"
     },
     "output_type": "display_data"
    }
   ],
   "source": [
    "# explore data for Education Field distribution\n",
    "plt.figure(figsize=(10,8))\n",
    "df.EducationField.value_counts().plot(kind='barh',color='g',alpha=.65)\n",
    "plt.title(\"Education Field Distribution\")\n",
    "plt.show()"
   ]
  },
  {
   "cell_type": "code",
   "execution_count": 196,
   "metadata": {},
   "outputs": [
    {
     "data": {
      "image/png": "[encoded data removed]",
      "text/plain": [
       "<Figure size 576x432 with 1 Axes>"
      ]
     },
     "metadata": {
      "needs_background": "light"
     },
     "output_type": "display_data"
    }
   ],
   "source": [
    "# explore data for Marital Status\n",
    "plt.figure(figsize=(8,6))\n",
    "df.MaritalStatus.value_counts().plot(kind='bar',alpha=.5)\n",
    "plt.title('Employees Marital Status')\n",
    "plt.show()"
   ]
  },
  {
   "cell_type": "code",
   "execution_count": 85,
   "metadata": {},
   "outputs": [
    {
     "data": {
      "text/plain": [
       "No     1233\n",
       "Yes     237\n",
       "Name: Attrition, dtype: int64"
      ]
     },
     "execution_count": 85,
     "metadata": {},
     "output_type": "execute_result"
    }
   ],
   "source": [
    "df['Attrition'].value_counts()"
   ]
  },
  {
   "cell_type": "code",
   "execution_count": 86,
   "metadata": {},
   "outputs": [
    {
     "data": {
      "text/plain": [
       "dtype('O')"
      ]
     },
     "execution_count": 86,
     "metadata": {},
     "output_type": "execute_result"
    }
   ],
   "source": [
    "df['Attrition'].dtypes"
   ]
  },
  {
   "cell_type": "code",
   "execution_count": 87,
   "metadata": {},
   "outputs": [],
   "source": [
    "df['Attrition'].replace('Yes',1, inplace=True)\n",
    "df['Attrition'].replace('No',0, inplace=True)"
   ]
  },
  {
   "cell_type": "code",
   "execution_count": 89,
   "metadata": {},
   "outputs": [
    {
     "data": {
      "text/html": [
       "<div>\n",
       "<style scoped>\n",
       "    .dataframe tbody tr th:only-of-type {\n",
       "        vertical-align: middle;\n",
       "    }\n",
       "\n",
       "    .dataframe tbody tr th {\n",
       "        vertical-align: top;\n",
       "    }\n",
       "\n",
       "    .dataframe thead th {\n",
       "        text-align: right;\n",
       "    }\n",
       "</style>\n",
       "<table border=\"1\" class=\"dataframe\">\n",
       "  <thead>\n",
       "    <tr style=\"text-align: right;\">\n",
       "      <th></th>\n",
       "      <th>Age</th>\n",
       "      <th>Attrition</th>\n",
       "      <th>Department</th>\n",
       "      <th>DistanceFromHome</th>\n",
       "      <th>Education</th>\n",
       "      <th>EducationField</th>\n",
       "      <th>EnvironmentSatisfaction</th>\n",
       "      <th>JobSatisfaction</th>\n",
       "      <th>MaritalStatus</th>\n",
       "      <th>MonthlyIncome</th>\n",
       "      <th>NumCompaniesWorked</th>\n",
       "      <th>WorkLifeBalance</th>\n",
       "      <th>YearsAtCompany</th>\n",
       "    </tr>\n",
       "  </thead>\n",
       "  <tbody>\n",
       "    <tr>\n",
       "      <th>0</th>\n",
       "      <td>41</td>\n",
       "      <td>1</td>\n",
       "      <td>Sales</td>\n",
       "      <td>1</td>\n",
       "      <td>2</td>\n",
       "      <td>Life Sciences</td>\n",
       "      <td>2</td>\n",
       "      <td>4</td>\n",
       "      <td>Single</td>\n",
       "      <td>5993</td>\n",
       "      <td>8</td>\n",
       "      <td>1</td>\n",
       "      <td>6</td>\n",
       "    </tr>\n",
       "    <tr>\n",
       "      <th>1</th>\n",
       "      <td>49</td>\n",
       "      <td>0</td>\n",
       "      <td>Research &amp; Development</td>\n",
       "      <td>8</td>\n",
       "      <td>1</td>\n",
       "      <td>Life Sciences</td>\n",
       "      <td>3</td>\n",
       "      <td>2</td>\n",
       "      <td>Married</td>\n",
       "      <td>5130</td>\n",
       "      <td>1</td>\n",
       "      <td>3</td>\n",
       "      <td>10</td>\n",
       "    </tr>\n",
       "    <tr>\n",
       "      <th>2</th>\n",
       "      <td>37</td>\n",
       "      <td>1</td>\n",
       "      <td>Research &amp; Development</td>\n",
       "      <td>2</td>\n",
       "      <td>2</td>\n",
       "      <td>Other</td>\n",
       "      <td>4</td>\n",
       "      <td>3</td>\n",
       "      <td>Single</td>\n",
       "      <td>2090</td>\n",
       "      <td>6</td>\n",
       "      <td>3</td>\n",
       "      <td>0</td>\n",
       "    </tr>\n",
       "    <tr>\n",
       "      <th>3</th>\n",
       "      <td>33</td>\n",
       "      <td>0</td>\n",
       "      <td>Research &amp; Development</td>\n",
       "      <td>3</td>\n",
       "      <td>4</td>\n",
       "      <td>Life Sciences</td>\n",
       "      <td>4</td>\n",
       "      <td>3</td>\n",
       "      <td>Married</td>\n",
       "      <td>2909</td>\n",
       "      <td>1</td>\n",
       "      <td>3</td>\n",
       "      <td>8</td>\n",
       "    </tr>\n",
       "    <tr>\n",
       "      <th>4</th>\n",
       "      <td>27</td>\n",
       "      <td>0</td>\n",
       "      <td>Research &amp; Development</td>\n",
       "      <td>2</td>\n",
       "      <td>1</td>\n",
       "      <td>Medical</td>\n",
       "      <td>1</td>\n",
       "      <td>2</td>\n",
       "      <td>Married</td>\n",
       "      <td>3468</td>\n",
       "      <td>9</td>\n",
       "      <td>3</td>\n",
       "      <td>2</td>\n",
       "    </tr>\n",
       "    <tr>\n",
       "      <th>5</th>\n",
       "      <td>32</td>\n",
       "      <td>0</td>\n",
       "      <td>Research &amp; Development</td>\n",
       "      <td>2</td>\n",
       "      <td>2</td>\n",
       "      <td>Life Sciences</td>\n",
       "      <td>4</td>\n",
       "      <td>4</td>\n",
       "      <td>Single</td>\n",
       "      <td>3068</td>\n",
       "      <td>0</td>\n",
       "      <td>2</td>\n",
       "      <td>7</td>\n",
       "    </tr>\n",
       "    <tr>\n",
       "      <th>6</th>\n",
       "      <td>59</td>\n",
       "      <td>0</td>\n",
       "      <td>Research &amp; Development</td>\n",
       "      <td>3</td>\n",
       "      <td>3</td>\n",
       "      <td>Medical</td>\n",
       "      <td>3</td>\n",
       "      <td>1</td>\n",
       "      <td>Married</td>\n",
       "      <td>2670</td>\n",
       "      <td>4</td>\n",
       "      <td>2</td>\n",
       "      <td>1</td>\n",
       "    </tr>\n",
       "    <tr>\n",
       "      <th>7</th>\n",
       "      <td>30</td>\n",
       "      <td>0</td>\n",
       "      <td>Research &amp; Development</td>\n",
       "      <td>24</td>\n",
       "      <td>1</td>\n",
       "      <td>Life Sciences</td>\n",
       "      <td>4</td>\n",
       "      <td>3</td>\n",
       "      <td>Divorced</td>\n",
       "      <td>2693</td>\n",
       "      <td>1</td>\n",
       "      <td>3</td>\n",
       "      <td>1</td>\n",
       "    </tr>\n",
       "    <tr>\n",
       "      <th>8</th>\n",
       "      <td>38</td>\n",
       "      <td>0</td>\n",
       "      <td>Research &amp; Development</td>\n",
       "      <td>23</td>\n",
       "      <td>3</td>\n",
       "      <td>Life Sciences</td>\n",
       "      <td>4</td>\n",
       "      <td>3</td>\n",
       "      <td>Single</td>\n",
       "      <td>9526</td>\n",
       "      <td>0</td>\n",
       "      <td>3</td>\n",
       "      <td>9</td>\n",
       "    </tr>\n",
       "    <tr>\n",
       "      <th>9</th>\n",
       "      <td>36</td>\n",
       "      <td>0</td>\n",
       "      <td>Research &amp; Development</td>\n",
       "      <td>27</td>\n",
       "      <td>3</td>\n",
       "      <td>Medical</td>\n",
       "      <td>3</td>\n",
       "      <td>3</td>\n",
       "      <td>Married</td>\n",
       "      <td>5237</td>\n",
       "      <td>6</td>\n",
       "      <td>2</td>\n",
       "      <td>7</td>\n",
       "    </tr>\n",
       "    <tr>\n",
       "      <th>10</th>\n",
       "      <td>35</td>\n",
       "      <td>0</td>\n",
       "      <td>Research &amp; Development</td>\n",
       "      <td>16</td>\n",
       "      <td>3</td>\n",
       "      <td>Medical</td>\n",
       "      <td>1</td>\n",
       "      <td>2</td>\n",
       "      <td>Married</td>\n",
       "      <td>2426</td>\n",
       "      <td>0</td>\n",
       "      <td>3</td>\n",
       "      <td>5</td>\n",
       "    </tr>\n",
       "    <tr>\n",
       "      <th>11</th>\n",
       "      <td>29</td>\n",
       "      <td>0</td>\n",
       "      <td>Research &amp; Development</td>\n",
       "      <td>15</td>\n",
       "      <td>2</td>\n",
       "      <td>Life Sciences</td>\n",
       "      <td>4</td>\n",
       "      <td>3</td>\n",
       "      <td>Single</td>\n",
       "      <td>4193</td>\n",
       "      <td>0</td>\n",
       "      <td>3</td>\n",
       "      <td>9</td>\n",
       "    </tr>\n",
       "    <tr>\n",
       "      <th>12</th>\n",
       "      <td>31</td>\n",
       "      <td>0</td>\n",
       "      <td>Research &amp; Development</td>\n",
       "      <td>26</td>\n",
       "      <td>1</td>\n",
       "      <td>Life Sciences</td>\n",
       "      <td>1</td>\n",
       "      <td>3</td>\n",
       "      <td>Divorced</td>\n",
       "      <td>2911</td>\n",
       "      <td>1</td>\n",
       "      <td>2</td>\n",
       "      <td>5</td>\n",
       "    </tr>\n",
       "    <tr>\n",
       "      <th>13</th>\n",
       "      <td>34</td>\n",
       "      <td>0</td>\n",
       "      <td>Research &amp; Development</td>\n",
       "      <td>19</td>\n",
       "      <td>2</td>\n",
       "      <td>Medical</td>\n",
       "      <td>2</td>\n",
       "      <td>4</td>\n",
       "      <td>Divorced</td>\n",
       "      <td>2661</td>\n",
       "      <td>0</td>\n",
       "      <td>3</td>\n",
       "      <td>2</td>\n",
       "    </tr>\n",
       "    <tr>\n",
       "      <th>14</th>\n",
       "      <td>28</td>\n",
       "      <td>1</td>\n",
       "      <td>Research &amp; Development</td>\n",
       "      <td>24</td>\n",
       "      <td>3</td>\n",
       "      <td>Life Sciences</td>\n",
       "      <td>3</td>\n",
       "      <td>3</td>\n",
       "      <td>Single</td>\n",
       "      <td>2028</td>\n",
       "      <td>5</td>\n",
       "      <td>3</td>\n",
       "      <td>4</td>\n",
       "    </tr>\n",
       "    <tr>\n",
       "      <th>15</th>\n",
       "      <td>29</td>\n",
       "      <td>0</td>\n",
       "      <td>Research &amp; Development</td>\n",
       "      <td>21</td>\n",
       "      <td>4</td>\n",
       "      <td>Life Sciences</td>\n",
       "      <td>2</td>\n",
       "      <td>1</td>\n",
       "      <td>Divorced</td>\n",
       "      <td>9980</td>\n",
       "      <td>1</td>\n",
       "      <td>3</td>\n",
       "      <td>10</td>\n",
       "    </tr>\n",
       "    <tr>\n",
       "      <th>16</th>\n",
       "      <td>32</td>\n",
       "      <td>0</td>\n",
       "      <td>Research &amp; Development</td>\n",
       "      <td>5</td>\n",
       "      <td>2</td>\n",
       "      <td>Life Sciences</td>\n",
       "      <td>1</td>\n",
       "      <td>2</td>\n",
       "      <td>Divorced</td>\n",
       "      <td>3298</td>\n",
       "      <td>0</td>\n",
       "      <td>2</td>\n",
       "      <td>6</td>\n",
       "    </tr>\n",
       "    <tr>\n",
       "      <th>17</th>\n",
       "      <td>22</td>\n",
       "      <td>0</td>\n",
       "      <td>Research &amp; Development</td>\n",
       "      <td>16</td>\n",
       "      <td>2</td>\n",
       "      <td>Medical</td>\n",
       "      <td>4</td>\n",
       "      <td>4</td>\n",
       "      <td>Divorced</td>\n",
       "      <td>2935</td>\n",
       "      <td>1</td>\n",
       "      <td>2</td>\n",
       "      <td>1</td>\n",
       "    </tr>\n",
       "    <tr>\n",
       "      <th>18</th>\n",
       "      <td>53</td>\n",
       "      <td>0</td>\n",
       "      <td>Sales</td>\n",
       "      <td>2</td>\n",
       "      <td>4</td>\n",
       "      <td>Life Sciences</td>\n",
       "      <td>1</td>\n",
       "      <td>4</td>\n",
       "      <td>Married</td>\n",
       "      <td>15427</td>\n",
       "      <td>2</td>\n",
       "      <td>3</td>\n",
       "      <td>25</td>\n",
       "    </tr>\n",
       "    <tr>\n",
       "      <th>19</th>\n",
       "      <td>38</td>\n",
       "      <td>0</td>\n",
       "      <td>Research &amp; Development</td>\n",
       "      <td>2</td>\n",
       "      <td>3</td>\n",
       "      <td>Life Sciences</td>\n",
       "      <td>4</td>\n",
       "      <td>4</td>\n",
       "      <td>Single</td>\n",
       "      <td>3944</td>\n",
       "      <td>5</td>\n",
       "      <td>3</td>\n",
       "      <td>3</td>\n",
       "    </tr>\n",
       "  </tbody>\n",
       "</table>\n",
       "</div>"
      ],
      "text/plain": [
       "    Age  Attrition              Department  DistanceFromHome  Education  \\\n",
       "0    41          1                   Sales                 1          2   \n",
       "1    49          0  Research & Development                 8          1   \n",
       "2    37          1  Research & Development                 2          2   \n",
       "3    33          0  Research & Development                 3          4   \n",
       "4    27          0  Research & Development                 2          1   \n",
       "5    32          0  Research & Development                 2          2   \n",
       "6    59          0  Research & Development                 3          3   \n",
       "7    30          0  Research & Development                24          1   \n",
       "8    38          0  Research & Development                23          3   \n",
       "9    36          0  Research & Development                27          3   \n",
       "10   35          0  Research & Development                16          3   \n",
       "11   29          0  Research & Development                15          2   \n",
       "12   31          0  Research & Development                26          1   \n",
       "13   34          0  Research & Development                19          2   \n",
       "14   28          1  Research & Development                24          3   \n",
       "15   29          0  Research & Development                21          4   \n",
       "16   32          0  Research & Development                 5          2   \n",
       "17   22          0  Research & Development                16          2   \n",
       "18   53          0                   Sales                 2          4   \n",
       "19   38          0  Research & Development                 2          3   \n",
       "\n",
       "   EducationField  EnvironmentSatisfaction  JobSatisfaction MaritalStatus  \\\n",
       "0   Life Sciences                        2                4        Single   \n",
       "1   Life Sciences                        3                2       Married   \n",
       "2           Other                        4                3        Single   \n",
       "3   Life Sciences                        4                3       Married   \n",
       "4         Medical                        1                2       Married   \n",
       "5   Life Sciences                        4                4        Single   \n",
       "6         Medical                        3                1       Married   \n",
       "7   Life Sciences                        4                3      Divorced   \n",
       "8   Life Sciences                        4                3        Single   \n",
       "9         Medical                        3                3       Married   \n",
       "10        Medical                        1                2       Married   \n",
       "11  Life Sciences                        4                3        Single   \n",
       "12  Life Sciences                        1                3      Divorced   \n",
       "13        Medical                        2                4      Divorced   \n",
       "14  Life Sciences                        3                3        Single   \n",
       "15  Life Sciences                        2                1      Divorced   \n",
       "16  Life Sciences                        1                2      Divorced   \n",
       "17        Medical                        4                4      Divorced   \n",
       "18  Life Sciences                        1                4       Married   \n",
       "19  Life Sciences                        4                4        Single   \n",
       "\n",
       "    MonthlyIncome  NumCompaniesWorked  WorkLifeBalance  YearsAtCompany  \n",
       "0            5993                   8                1               6  \n",
       "1            5130                   1                3              10  \n",
       "2            2090                   6                3               0  \n",
       "3            2909                   1                3               8  \n",
       "4            3468                   9                3               2  \n",
       "5            3068                   0                2               7  \n",
       "6            2670                   4                2               1  \n",
       "7            2693                   1                3               1  \n",
       "8            9526                   0                3               9  \n",
       "9            5237                   6                2               7  \n",
       "10           2426                   0                3               5  \n",
       "11           4193                   0                3               9  \n",
       "12           2911                   1                2               5  \n",
       "13           2661                   0                3               2  \n",
       "14           2028                   5                3               4  \n",
       "15           9980                   1                3              10  \n",
       "16           3298                   0                2               6  \n",
       "17           2935                   1                2               1  \n",
       "18          15427                   2                3              25  \n",
       "19           3944                   5                3               3  "
      ]
     },
     "execution_count": 89,
     "metadata": {},
     "output_type": "execute_result"
    }
   ],
   "source": [
    "df.head(20)"
   ]
  },
  {
   "cell_type": "code",
   "execution_count": 90,
   "metadata": {},
   "outputs": [
    {
     "data": {
      "text/plain": [
       "0    1\n",
       "1    0\n",
       "2    1\n",
       "3    0\n",
       "4    0\n",
       "Name: Attrition, dtype: int64"
      ]
     },
     "execution_count": 90,
     "metadata": {},
     "output_type": "execute_result"
    }
   ],
   "source": [
    "# building up a logistic regression model\n",
    "X = df.drop(['Attrition'],axis=1)\n",
    "X.head()\n",
    "Y = df['Attrition']\n",
    "Y.head()"
   ]
  },
  {
   "cell_type": "code",
   "execution_count": 93,
   "metadata": {},
   "outputs": [
    {
     "data": {
      "text/plain": [
       "Life Sciences       606\n",
       "Medical             464\n",
       "Marketing           159\n",
       "Technical Degree    132\n",
       "Other                82\n",
       "Human Resources      27\n",
       "Name: EducationField, dtype: int64"
      ]
     },
     "execution_count": 93,
     "metadata": {},
     "output_type": "execute_result"
    }
   ],
   "source": [
    "df['EducationField'].value_counts()"
   ]
  },
  {
   "cell_type": "code",
   "execution_count": 94,
   "metadata": {},
   "outputs": [
    {
     "data": {
      "text/plain": [
       "Research & Development    961\n",
       "Sales                     446\n",
       "Human Resources            63\n",
       "Name: Department, dtype: int64"
      ]
     },
     "execution_count": 94,
     "metadata": {},
     "output_type": "execute_result"
    }
   ],
   "source": [
    "df['Department'].value_counts()"
   ]
  },
  {
   "cell_type": "code",
   "execution_count": 95,
   "metadata": {},
   "outputs": [
    {
     "data": {
      "text/plain": [
       "Married     673\n",
       "Single      470\n",
       "Divorced    327\n",
       "Name: MaritalStatus, dtype: int64"
      ]
     },
     "execution_count": 95,
     "metadata": {},
     "output_type": "execute_result"
    }
   ],
   "source": [
    "df['MaritalStatus'].value_counts()"
   ]
  },
  {
   "cell_type": "code",
   "execution_count": 97,
   "metadata": {},
   "outputs": [
    {
     "data": {
      "text/plain": [
       "Index(['Age', 'Attrition', 'DistanceFromHome', 'Education',\n",
       "       'EnvironmentSatisfaction', 'JobSatisfaction', 'MonthlyIncome',\n",
       "       'NumCompaniesWorked', 'WorkLifeBalance', 'YearsAtCompany'],\n",
       "      dtype='object')"
      ]
     },
     "execution_count": 97,
     "metadata": {},
     "output_type": "execute_result"
    }
   ],
   "source": [
    "x.columns"
   ]
  },
  {
   "cell_type": "code",
   "execution_count": 98,
   "metadata": {},
   "outputs": [],
   "source": [
    "y=df['Attrition']"
   ]
  },
  {
   "cell_type": "code",
   "execution_count": 99,
   "metadata": {},
   "outputs": [
    {
     "data": {
      "text/plain": [
       "0    1\n",
       "1    0\n",
       "2    1\n",
       "3    0\n",
       "4    0\n",
       "Name: Attrition, dtype: int64"
      ]
     },
     "execution_count": 99,
     "metadata": {},
     "output_type": "execute_result"
    }
   ],
   "source": [
    "y.head()"
   ]
  },
  {
   "cell_type": "code",
   "execution_count": 106,
   "metadata": {},
   "outputs": [
    {
     "name": "stdout",
     "output_type": "stream",
     "text": [
      "Index(['Intercept', 'Department[T.Research & Development]',\n",
      "       'Department[T.Sales]', 'EducationField[T.Life Sciences]',\n",
      "       'EducationField[T.Marketing]', 'EducationField[T.Medical]',\n",
      "       'EducationField[T.Other]', 'EducationField[T.Technical Degree]', 'Age',\n",
      "       'DistanceFromHome', 'Education', 'YearsAtCompany'],\n",
      "      dtype='object')\n"
     ]
    }
   ],
   "source": [
    "y, x = dmatrices('Attrition ~ Age + Department + \\\n",
    "                  DistanceFromHome + Education + EducationField + YearsAtCompany',\n",
    "                  df, return_type=\"dataframe\")\n",
    "print (x.columns)"
   ]
  },
  {
   "cell_type": "code",
   "execution_count": 197,
   "metadata": {},
   "outputs": [],
   "source": [
    "y = np.ravel(y)"
   ]
  },
  {
   "cell_type": "code",
   "execution_count": 198,
   "metadata": {},
   "outputs": [
    {
     "data": {
      "text/plain": [
       "0.16122448979591836"
      ]
     },
     "execution_count": 198,
     "metadata": {},
     "output_type": "execute_result"
    }
   ],
   "source": [
    "y.mean()"
   ]
  },
  {
   "cell_type": "code",
   "execution_count": 216,
   "metadata": {},
   "outputs": [
    {
     "name": "stderr",
     "output_type": "stream",
     "text": [
      "/Users/justspecial/opt/anaconda3/lib/python3.9/site-packages/sklearn/linear_model/_logistic.py:763: ConvergenceWarning: lbfgs failed to converge (status=1):\n",
      "STOP: TOTAL NO. of ITERATIONS REACHED LIMIT.\n",
      "\n",
      "Increase the number of iterations (max_iter) or scale the data as shown in:\n",
      "    https://scikit-learn.org/stable/modules/preprocessing.html\n",
      "Please also refer to the documentation for alternative solver options:\n",
      "    https://scikit-learn.org/stable/modules/linear_model.html#logistic-regression\n",
      "  n_iter_i = _check_optimize_result(\n"
     ]
    },
    {
     "data": {
      "text/plain": [
       "LogisticRegression()"
      ]
     },
     "execution_count": 216,
     "metadata": {},
     "output_type": "execute_result"
    }
   ],
   "source": [
    "X_train,X_test,y_train,y_test=sklearn.model_selection.train_test_split(x,y, test_size=0.3, random_state=0)\n",
    "model=LogisticRegression()\n",
    "model.fit(X_train, y_train)"
   ]
  },
  {
   "cell_type": "code",
   "execution_count": 210,
   "metadata": {},
   "outputs": [
    {
     "name": "stdout",
     "output_type": "stream",
     "text": [
      "Accuracy = 84.35374149659864 %\n"
     ]
    },
    {
     "name": "stderr",
     "output_type": "stream",
     "text": [
      "/Users/justspecial/opt/anaconda3/lib/python3.9/site-packages/sklearn/linear_model/_logistic.py:763: ConvergenceWarning: lbfgs failed to converge (status=1):\n",
      "STOP: TOTAL NO. of ITERATIONS REACHED LIMIT.\n",
      "\n",
      "Increase the number of iterations (max_iter) or scale the data as shown in:\n",
      "    https://scikit-learn.org/stable/modules/preprocessing.html\n",
      "Please also refer to the documentation for alternative solver options:\n",
      "    https://scikit-learn.org/stable/modules/linear_model.html#logistic-regression\n",
      "  n_iter_i = _check_optimize_result(\n"
     ]
    }
   ],
   "source": [
    "#Using logistic regression to predict Attretion\n",
    "from sklearn.linear_model import LogisticRegression\n",
    "from sklearn.metrics import accuracy_score\n",
    "from sklearn import metrics\n",
    "\n",
    "logReg = LogisticRegression()\n",
    "logReg = logReg.fit(X_train, y_train)\n",
    "logReg_pred = logReg.predict(X_test)\n",
    "\n",
    "# check the accuracy on the training set\n",
    "logReg_accuracy = accuracy_score(y_test, logReg_pred) * 100\n",
    "print('Accuracy =', logReg_accuracy,'%')"
   ]
  },
  {
   "cell_type": "code",
   "execution_count": 214,
   "metadata": {},
   "outputs": [
    {
     "name": "stdout",
     "output_type": "stream",
     "text": [
      "Accuracy = 84.12698412698413 %\n"
     ]
    }
   ],
   "source": [
    "#Using Support Vector Machine to predcit Attrition\n",
    "from sklearn.svm import SVC\n",
    "svc = SVC()\n",
    "svc = svc.fit(X_train, y_train)\n",
    "svc_pred = svc.predict(X_test)\n",
    "\n",
    "# check the accuracy on the training set\n",
    "svm_accuracy = accuracy_score(y_test, svc_pred) * 100\n",
    "print('Accuracy =', svm_accuracy, '%')"
   ]
  },
  {
   "cell_type": "code",
   "execution_count": 217,
   "metadata": {},
   "outputs": [
    {
     "name": "stdout",
     "output_type": "stream",
     "text": [
      "[0. 0. 0. 0. 0. 0. 0. 0. 0. 0. 0. 0. 0. 0. 0. 0. 0. 0. 0. 0. 0. 0. 0. 0.\n",
      " 0. 0. 0. 0. 0. 0. 0. 0. 0. 0. 0. 0. 0. 0. 0. 0. 0. 0. 0. 0. 0. 0. 0. 0.\n",
      " 0. 0. 0. 0. 0. 0. 0. 0. 0. 0. 0. 0. 0. 0. 0. 0. 0. 0. 0. 0. 0. 0. 0. 0.\n",
      " 0. 0. 0. 0. 0. 0. 0. 0. 0. 0. 0. 0. 0. 0. 0. 0. 0. 0. 0. 0. 0. 0. 0. 0.\n",
      " 0. 0. 0. 0. 0. 0. 0. 0. 0. 0. 0. 0. 0. 0. 0. 0. 0. 0. 0. 0. 0. 0. 0. 0.\n",
      " 0. 0. 0. 0. 0. 0. 0. 0. 0. 0. 0. 0. 0. 0. 0. 0. 0. 0. 0. 0. 0. 0. 0. 0.\n",
      " 0. 0. 0. 0. 0. 0. 0. 0. 0. 0. 0. 0. 0. 0. 0. 0. 0. 0. 0. 0. 0. 0. 0. 0.\n",
      " 0. 0. 0. 0. 0. 0. 0. 0. 0. 0. 0. 0. 0. 0. 0. 0. 0. 0. 0. 0. 0. 0. 0. 0.\n",
      " 0. 0. 0. 0. 0. 0. 0. 0. 0. 0. 0. 0. 0. 0. 0. 0. 0. 0. 0. 0. 0. 0. 0. 0.\n",
      " 0. 0. 0. 0. 0. 0. 0. 0. 0. 0. 0. 0. 0. 0. 0. 0. 0. 0. 0. 0. 0. 0. 0. 0.\n",
      " 0. 0. 0. 0. 0. 0. 0. 0. 0. 0. 0. 0. 0. 0. 0. 0. 0. 0. 0. 0. 0. 0. 0. 0.\n",
      " 0. 0. 0. 0. 0. 0. 0. 0. 0. 0. 0. 0. 0. 0. 0. 0. 0. 0. 0. 0. 0. 0. 0. 0.\n",
      " 0. 0. 0. 0. 0. 0. 0. 0. 0. 0. 0. 0. 0. 0. 0. 0. 0. 0. 0. 0. 0. 0. 0. 0.\n",
      " 0. 0. 0. 0. 0. 0. 0. 0. 0. 0. 0. 0. 0. 0. 0. 0. 0. 0. 0. 0. 0. 0. 0. 0.\n",
      " 0. 0. 0. 0. 0. 0. 0. 0. 0. 0. 0. 0. 0. 0. 0. 0. 0. 0. 0. 0. 0. 0. 0. 0.\n",
      " 0. 0. 0. 0. 0. 0. 0. 0. 0. 0. 0. 0. 0. 0. 0. 0. 0. 0. 0. 0. 0. 0. 0. 0.\n",
      " 0. 1. 0. 0. 0. 0. 0. 0. 0. 0. 0. 0. 0. 0. 0. 0. 0. 0. 0. 0. 0. 0. 0. 0.\n",
      " 0. 0. 0. 0. 0. 0. 0. 0. 0. 0. 0. 0. 0. 0. 0. 0. 0. 0. 0. 0. 0. 0. 0. 0.\n",
      " 0. 0. 0. 0. 0. 0. 0. 0. 0.]\n"
     ]
    }
   ],
   "source": [
    "predicted= model.predict(X_test)\n",
    "print (predicted)"
   ]
  },
  {
   "cell_type": "code",
   "execution_count": 219,
   "metadata": {},
   "outputs": [
    {
     "name": "stdout",
     "output_type": "stream",
     "text": [
      "[[0.8845354  0.1154646 ]\n",
      " [0.79354337 0.20645663]\n",
      " [0.67950916 0.32049084]\n",
      " [0.81652916 0.18347084]\n",
      " [0.71603262 0.28396738]\n",
      " [0.82854484 0.17145516]\n",
      " [0.88161239 0.11838761]\n",
      " [0.81672922 0.18327078]\n",
      " [0.96184415 0.03815585]\n",
      " [0.92958711 0.07041289]\n",
      " [0.96199923 0.03800077]\n",
      " [0.86327301 0.13672699]\n",
      " [0.85076016 0.14923984]\n",
      " [0.85469478 0.14530522]\n",
      " [0.90974712 0.09025288]\n",
      " [0.87963229 0.12036771]\n",
      " [0.87459498 0.12540502]\n",
      " [0.7684811  0.2315189 ]\n",
      " [0.77592815 0.22407185]\n",
      " [0.90724546 0.09275454]\n",
      " [0.68762488 0.31237512]\n",
      " [0.95839945 0.04160055]\n",
      " [0.89451801 0.10548199]\n",
      " [0.81944137 0.18055863]\n",
      " [0.5308997  0.4691003 ]\n",
      " [0.78210469 0.21789531]\n",
      " [0.91067011 0.08932989]\n",
      " [0.92208981 0.07791019]\n",
      " [0.72274875 0.27725125]\n",
      " [0.82671741 0.17328259]\n",
      " [0.85885594 0.14114406]\n",
      " [0.84814084 0.15185916]\n",
      " [0.88860598 0.11139402]\n",
      " [0.96611726 0.03388274]\n",
      " [0.87288137 0.12711863]\n",
      " [0.89509325 0.10490675]\n",
      " [0.87706154 0.12293846]\n",
      " [0.74096808 0.25903192]\n",
      " [0.92131906 0.07868094]\n",
      " [0.79090053 0.20909947]\n",
      " [0.93409054 0.06590946]\n",
      " [0.85145513 0.14854487]\n",
      " [0.9512971  0.0487029 ]\n",
      " [0.92506816 0.07493184]\n",
      " [0.9166681  0.0833319 ]\n",
      " [0.84000016 0.15999984]\n",
      " [0.82654676 0.17345324]\n",
      " [0.83651544 0.16348456]\n",
      " [0.7196002  0.2803998 ]\n",
      " [0.80526971 0.19473029]\n",
      " [0.91979169 0.08020831]\n",
      " [0.73224771 0.26775229]\n",
      " [0.88405412 0.11594588]\n",
      " [0.81558449 0.18441551]\n",
      " [0.85904353 0.14095647]\n",
      " [0.76523457 0.23476543]\n",
      " [0.8648966  0.1351034 ]\n",
      " [0.81006953 0.18993047]\n",
      " [0.82001836 0.17998164]\n",
      " [0.78203387 0.21796613]\n",
      " [0.91547246 0.08452754]\n",
      " [0.6791019  0.3208981 ]\n",
      " [0.92029339 0.07970661]\n",
      " [0.83184905 0.16815095]\n",
      " [0.83291721 0.16708279]\n",
      " [0.84795556 0.15204444]\n",
      " [0.90888083 0.09111917]\n",
      " [0.88036461 0.11963539]\n",
      " [0.88252896 0.11747104]\n",
      " [0.66030861 0.33969139]\n",
      " [0.95229121 0.04770879]\n",
      " [0.77657806 0.22342194]\n",
      " [0.84670521 0.15329479]\n",
      " [0.82890738 0.17109262]\n",
      " [0.71613606 0.28386394]\n",
      " [0.76717834 0.23282166]\n",
      " [0.92781898 0.07218102]\n",
      " [0.95143553 0.04856447]\n",
      " [0.76440653 0.23559347]\n",
      " [0.86056047 0.13943953]\n",
      " [0.88548794 0.11451206]\n",
      " [0.76091499 0.23908501]\n",
      " [0.72012413 0.27987587]\n",
      " [0.82438125 0.17561875]\n",
      " [0.87072548 0.12927452]\n",
      " [0.67326424 0.32673576]\n",
      " [0.98286085 0.01713915]\n",
      " [0.93919818 0.06080182]\n",
      " [0.87510392 0.12489608]\n",
      " [0.7824679  0.2175321 ]\n",
      " [0.67831262 0.32168738]\n",
      " [0.85402998 0.14597002]\n",
      " [0.68295516 0.31704484]\n",
      " [0.85573815 0.14426185]\n",
      " [0.89779543 0.10220457]\n",
      " [0.7924083  0.2075917 ]\n",
      " [0.76448474 0.23551526]\n",
      " [0.71322577 0.28677423]\n",
      " [0.86825614 0.13174386]\n",
      " [0.87315007 0.12684993]\n",
      " [0.77973832 0.22026168]\n",
      " [0.80612524 0.19387476]\n",
      " [0.98530641 0.01469359]\n",
      " [0.90480431 0.09519569]\n",
      " [0.81328535 0.18671465]\n",
      " [0.93925239 0.06074761]\n",
      " [0.84525614 0.15474386]\n",
      " [0.71576008 0.28423992]\n",
      " [0.89071232 0.10928768]\n",
      " [0.86105723 0.13894277]\n",
      " [0.84833037 0.15166963]\n",
      " [0.96107495 0.03892505]\n",
      " [0.94985284 0.05014716]\n",
      " [0.77257838 0.22742162]\n",
      " [0.85029256 0.14970744]\n",
      " [0.9083844  0.0916156 ]\n",
      " [0.89605894 0.10394106]\n",
      " [0.82333674 0.17666326]\n",
      " [0.94841607 0.05158393]\n",
      " [0.905661   0.094339  ]\n",
      " [0.8865201  0.1134799 ]\n",
      " [0.84763746 0.15236254]\n",
      " [0.85835553 0.14164447]\n",
      " [0.74555852 0.25444148]\n",
      " [0.90709643 0.09290357]\n",
      " [0.97369218 0.02630782]\n",
      " [0.93624975 0.06375025]\n",
      " [0.79262721 0.20737279]\n",
      " [0.86787191 0.13212809]\n",
      " [0.75546361 0.24453639]\n",
      " [0.96931008 0.03068992]\n",
      " [0.87784271 0.12215729]\n",
      " [0.82205429 0.17794571]\n",
      " [0.85545505 0.14454495]\n",
      " [0.94313925 0.05686075]\n",
      " [0.96820162 0.03179838]\n",
      " [0.67447549 0.32552451]\n",
      " [0.94683566 0.05316434]\n",
      " [0.67487796 0.32512204]\n",
      " [0.77100709 0.22899291]\n",
      " [0.85262919 0.14737081]\n",
      " [0.8900275  0.1099725 ]\n",
      " [0.82547661 0.17452339]\n",
      " [0.88938395 0.11061605]\n",
      " [0.88457974 0.11542026]\n",
      " [0.91498155 0.08501845]\n",
      " [0.96322057 0.03677943]\n",
      " [0.93743789 0.06256211]\n",
      " [0.92081254 0.07918746]\n",
      " [0.70398034 0.29601966]\n",
      " [0.87272753 0.12727247]\n",
      " [0.86182856 0.13817144]\n",
      " [0.84123085 0.15876915]\n",
      " [0.94950108 0.05049892]\n",
      " [0.9250388  0.0749612 ]\n",
      " [0.94185165 0.05814835]\n",
      " [0.97177529 0.02822471]\n",
      " [0.73812367 0.26187633]\n",
      " [0.90419279 0.09580721]\n",
      " [0.88323512 0.11676488]\n",
      " [0.94555049 0.05444951]\n",
      " [0.92202605 0.07797395]\n",
      " [0.80032158 0.19967842]\n",
      " [0.73274322 0.26725678]\n",
      " [0.94963081 0.05036919]\n",
      " [0.85644314 0.14355686]\n",
      " [0.78367199 0.21632801]\n",
      " [0.75389298 0.24610702]\n",
      " [0.77415726 0.22584274]\n",
      " [0.9207508  0.0792492 ]\n",
      " [0.88370977 0.11629023]\n",
      " [0.95342107 0.04657893]\n",
      " [0.92478165 0.07521835]\n",
      " [0.73156949 0.26843051]\n",
      " [0.92297343 0.07702657]\n",
      " [0.72781117 0.27218883]\n",
      " [0.81672743 0.18327257]\n",
      " [0.92769868 0.07230132]\n",
      " [0.84380357 0.15619643]\n",
      " [0.80355475 0.19644525]\n",
      " [0.5994168  0.4005832 ]\n",
      " [0.92334245 0.07665755]\n",
      " [0.92787376 0.07212624]\n",
      " [0.85287301 0.14712699]\n",
      " [0.92160199 0.07839801]\n",
      " [0.77014706 0.22985294]\n",
      " [0.85374397 0.14625603]\n",
      " [0.88419051 0.11580949]\n",
      " [0.7706686  0.2293314 ]\n",
      " [0.65575904 0.34424096]\n",
      " [0.78261067 0.21738933]\n",
      " [0.75877666 0.24122334]\n",
      " [0.88432765 0.11567235]\n",
      " [0.85819399 0.14180601]\n",
      " [0.79731568 0.20268432]\n",
      " [0.86438197 0.13561803]\n",
      " [0.82141362 0.17858638]\n",
      " [0.89299542 0.10700458]\n",
      " [0.75801258 0.24198742]\n",
      " [0.90830446 0.09169554]\n",
      " [0.84188027 0.15811973]\n",
      " [0.79514841 0.20485159]\n",
      " [0.71510024 0.28489976]\n",
      " [0.85033674 0.14966326]\n",
      " [0.82130151 0.17869849]\n",
      " [0.7130472  0.2869528 ]\n",
      " [0.77983649 0.22016351]\n",
      " [0.93303573 0.06696427]\n",
      " [0.70909564 0.29090436]\n",
      " [0.89956697 0.10043303]\n",
      " [0.88301606 0.11698394]\n",
      " [0.74729269 0.25270731]\n",
      " [0.83437125 0.16562875]\n",
      " [0.63006942 0.36993058]\n",
      " [0.94900656 0.05099344]\n",
      " [0.85654371 0.14345629]\n",
      " [0.93633794 0.06366206]\n",
      " [0.8668586  0.1331414 ]\n",
      " [0.8426722  0.1573278 ]\n",
      " [0.79233871 0.20766129]\n",
      " [0.90046219 0.09953781]\n",
      " [0.62020599 0.37979401]\n",
      " [0.65674622 0.34325378]\n",
      " [0.9921826  0.0078174 ]\n",
      " [0.74359153 0.25640847]\n",
      " [0.93184977 0.06815023]\n",
      " [0.91181846 0.08818154]\n",
      " [0.75968971 0.24031029]\n",
      " [0.55199408 0.44800592]\n",
      " [0.80731983 0.19268017]\n",
      " [0.96449462 0.03550538]\n",
      " [0.87015879 0.12984121]\n",
      " [0.84691348 0.15308652]\n",
      " [0.91402367 0.08597633]\n",
      " [0.90404801 0.09595199]\n",
      " [0.7889368  0.2110632 ]\n",
      " [0.841434   0.158566  ]\n",
      " [0.9312015  0.0687985 ]\n",
      " [0.77024312 0.22975688]\n",
      " [0.93990842 0.06009158]\n",
      " [0.92635979 0.07364021]\n",
      " [0.67004437 0.32995563]\n",
      " [0.9784045  0.0215955 ]\n",
      " [0.8437424  0.1562576 ]\n",
      " [0.88456413 0.11543587]\n",
      " [0.85803902 0.14196098]\n",
      " [0.86490585 0.13509415]\n",
      " [0.90273384 0.09726616]\n",
      " [0.87185678 0.12814322]\n",
      " [0.90204597 0.09795403]\n",
      " [0.79951487 0.20048513]\n",
      " [0.9035066  0.0964934 ]\n",
      " [0.6619697  0.3380303 ]\n",
      " [0.87674224 0.12325776]\n",
      " [0.88644835 0.11355165]\n",
      " [0.80700128 0.19299872]\n",
      " [0.98200776 0.01799224]\n",
      " [0.75558957 0.24441043]\n",
      " [0.59148019 0.40851981]\n",
      " [0.86052653 0.13947347]\n",
      " [0.87190475 0.12809525]\n",
      " [0.82711572 0.17288428]\n",
      " [0.88103727 0.11896273]\n",
      " [0.69634957 0.30365043]\n",
      " [0.88979013 0.11020987]\n",
      " [0.89587604 0.10412396]\n",
      " [0.87146712 0.12853288]\n",
      " [0.80002789 0.19997211]\n",
      " [0.67805963 0.32194037]\n",
      " [0.85751427 0.14248573]\n",
      " [0.86327199 0.13672801]\n",
      " [0.852301   0.147699  ]\n",
      " [0.59481124 0.40518876]\n",
      " [0.89264017 0.10735983]\n",
      " [0.85373612 0.14626388]\n",
      " [0.91889647 0.08110353]\n",
      " [0.82553523 0.17446477]\n",
      " [0.88215338 0.11784662]\n",
      " [0.92937624 0.07062376]\n",
      " [0.78359997 0.21640003]\n",
      " [0.60785436 0.39214564]\n",
      " [0.8345128  0.1654872 ]\n",
      " [0.79949163 0.20050837]\n",
      " [0.80691763 0.19308237]\n",
      " [0.99433454 0.00566546]\n",
      " [0.84758456 0.15241544]\n",
      " [0.90473319 0.09526681]\n",
      " [0.86316826 0.13683174]\n",
      " [0.91734569 0.08265431]\n",
      " [0.89330046 0.10669954]\n",
      " [0.87748655 0.12251345]\n",
      " [0.81734984 0.18265016]\n",
      " [0.85175211 0.14824789]\n",
      " [0.85105388 0.14894612]\n",
      " [0.87932363 0.12067637]\n",
      " [0.7589334  0.2410666 ]\n",
      " [0.73746159 0.26253841]\n",
      " [0.8686088  0.1313912 ]\n",
      " [0.61934624 0.38065376]\n",
      " [0.93322752 0.06677248]\n",
      " [0.88835982 0.11164018]\n",
      " [0.77460227 0.22539773]\n",
      " [0.65793732 0.34206268]\n",
      " [0.86609951 0.13390049]\n",
      " [0.85518648 0.14481352]\n",
      " [0.97303406 0.02696594]\n",
      " [0.88024605 0.11975395]\n",
      " [0.66421153 0.33578847]\n",
      " [0.92976251 0.07023749]\n",
      " [0.83080746 0.16919254]\n",
      " [0.85886495 0.14113505]\n",
      " [0.88042608 0.11957392]\n",
      " [0.86813923 0.13186077]\n",
      " [0.8799161  0.1200839 ]\n",
      " [0.81436052 0.18563948]\n",
      " [0.84309493 0.15690507]\n",
      " [0.83973867 0.16026133]\n",
      " [0.81305998 0.18694002]\n",
      " [0.67440125 0.32559875]\n",
      " [0.88195386 0.11804614]\n",
      " [0.52531988 0.47468012]\n",
      " [0.93743661 0.06256339]\n",
      " [0.71732183 0.28267817]\n",
      " [0.7203866  0.2796134 ]\n",
      " [0.90617714 0.09382286]\n",
      " [0.93210632 0.06789368]\n",
      " [0.90220935 0.09779065]\n",
      " [0.9070832  0.0929168 ]\n",
      " [0.96619897 0.03380103]\n",
      " [0.91772426 0.08227574]\n",
      " [0.92935956 0.07064044]\n",
      " [0.81862138 0.18137862]\n",
      " [0.86860111 0.13139889]\n",
      " [0.8082977  0.1917023 ]\n",
      " [0.80210816 0.19789184]\n",
      " [0.93385125 0.06614875]\n",
      " [0.85612843 0.14387157]\n",
      " [0.8978425  0.1021575 ]\n",
      " [0.86674933 0.13325067]\n",
      " [0.82463131 0.17536869]\n",
      " [0.82269032 0.17730968]\n",
      " [0.80187258 0.19812742]\n",
      " [0.84426368 0.15573632]\n",
      " [0.86323065 0.13676935]\n",
      " [0.9328229  0.0671771 ]\n",
      " [0.91028987 0.08971013]\n",
      " [0.72765375 0.27234625]\n",
      " [0.98994819 0.01005181]\n",
      " [0.73270636 0.26729364]\n",
      " [0.8370802  0.1629198 ]\n",
      " [0.77883127 0.22116873]\n",
      " [0.71728787 0.28271213]\n",
      " [0.82645343 0.17354657]\n",
      " [0.83978427 0.16021573]\n",
      " [0.89165556 0.10834444]\n",
      " [0.88578158 0.11421842]\n",
      " [0.87475187 0.12524813]\n",
      " [0.81500836 0.18499164]\n",
      " [0.8956937  0.1043063 ]\n",
      " [0.81842876 0.18157124]\n",
      " [0.975306   0.024694  ]\n",
      " [0.92332276 0.07667724]\n",
      " [0.9406756  0.0593244 ]\n",
      " [0.83411605 0.16588395]\n",
      " [0.8088626  0.1911374 ]\n",
      " [0.96036894 0.03963106]\n",
      " [0.94233256 0.05766744]\n",
      " [0.69582141 0.30417859]\n",
      " [0.86953208 0.13046792]\n",
      " [0.84149549 0.15850451]\n",
      " [0.93229161 0.06770839]\n",
      " [0.84769965 0.15230035]\n",
      " [0.79125617 0.20874383]\n",
      " [0.89888885 0.10111115]\n",
      " [0.79871627 0.20128373]\n",
      " [0.93239398 0.06760602]\n",
      " [0.91106672 0.08893328]\n",
      " [0.92650154 0.07349846]\n",
      " [0.71083351 0.28916649]\n",
      " [0.91502712 0.08497288]\n",
      " [0.75294164 0.24705836]\n",
      " [0.8905212  0.1094788 ]\n",
      " [0.86934938 0.13065062]\n",
      " [0.77980742 0.22019258]\n",
      " [0.85482962 0.14517038]\n",
      " [0.49108761 0.50891239]\n",
      " [0.94608601 0.05391399]\n",
      " [0.67139862 0.32860138]\n",
      " [0.8610112  0.1389888 ]\n",
      " [0.83895327 0.16104673]\n",
      " [0.83648151 0.16351849]\n",
      " [0.96366134 0.03633866]\n",
      " [0.85152782 0.14847218]\n",
      " [0.88939174 0.11060826]\n",
      " [0.56234043 0.43765957]\n",
      " [0.80478729 0.19521271]\n",
      " [0.94084596 0.05915404]\n",
      " [0.85040809 0.14959191]\n",
      " [0.91510977 0.08489023]\n",
      " [0.91150431 0.08849569]\n",
      " [0.63299813 0.36700187]\n",
      " [0.85375203 0.14624797]\n",
      " [0.97344741 0.02655259]\n",
      " [0.89486159 0.10513841]\n",
      " [0.88849727 0.11150273]\n",
      " [0.87513397 0.12486603]\n",
      " [0.79979045 0.20020955]\n",
      " [0.83805509 0.16194491]\n",
      " [0.82276562 0.17723438]\n",
      " [0.87221649 0.12778351]\n",
      " [0.85849607 0.14150393]\n",
      " [0.95193042 0.04806958]\n",
      " [0.86335777 0.13664223]\n",
      " [0.71528402 0.28471598]\n",
      " [0.74759483 0.25240517]\n",
      " [0.81524164 0.18475836]\n",
      " [0.85502113 0.14497887]\n",
      " [0.86113748 0.13886252]\n",
      " [0.86171543 0.13828457]\n",
      " [0.9166681  0.0833319 ]\n",
      " [0.81483804 0.18516196]\n",
      " [0.66505188 0.33494812]\n",
      " [0.96824168 0.03175832]\n",
      " [0.95567972 0.04432028]\n",
      " [0.89300341 0.10699659]\n",
      " [0.90955228 0.09044772]\n",
      " [0.83705221 0.16294779]\n",
      " [0.77432932 0.22567068]\n",
      " [0.63054022 0.36945978]\n",
      " [0.9287609  0.0712391 ]\n",
      " [0.71064081 0.28935919]\n",
      " [0.70688693 0.29311307]\n",
      " [0.93620008 0.06379992]\n",
      " [0.7591908  0.2408092 ]\n",
      " [0.89273146 0.10726854]\n",
      " [0.79974037 0.20025963]\n",
      " [0.88365905 0.11634095]\n",
      " [0.84502185 0.15497815]\n",
      " [0.71282053 0.28717947]\n",
      " [0.94437781 0.05562219]\n",
      " [0.92150727 0.07849273]]\n"
     ]
    }
   ],
   "source": [
    "probs = model.predict_proba(X_test)\n",
    "print (probs)"
   ]
  },
  {
   "cell_type": "code",
   "execution_count": 221,
   "metadata": {},
   "outputs": [],
   "source": [
    "# from sklearn import metrics\n",
    "# print (metrics.accuracy_score(y_test, predicted) * 100, '%')\n",
    "# print (metrics.roc_auc_score(y_test, probs[:, 1]))"
   ]
  },
  {
   "cell_type": "code",
   "execution_count": 123,
   "metadata": {},
   "outputs": [
    {
     "name": "stdout",
     "output_type": "stream",
     "text": [
      "[[371   0]\n",
      " [ 69   1]]\n",
      "              precision    recall  f1-score   support\n",
      "\n",
      "         0.0       0.84      1.00      0.91       371\n",
      "         1.0       1.00      0.01      0.03        70\n",
      "\n",
      "    accuracy                           0.84       441\n",
      "   macro avg       0.92      0.51      0.47       441\n",
      "weighted avg       0.87      0.84      0.77       441\n",
      "\n"
     ]
    }
   ],
   "source": [
    "print (metrics.confusion_matrix(y_test, predicted))\n",
    "print (metrics.classification_report(y_test, predicted))"
   ]
  },
  {
   "cell_type": "code",
   "execution_count": 128,
   "metadata": {},
   "outputs": [
    {
     "name": "stdout",
     "output_type": "stream",
     "text": [
      "      Intercept  Department[T.Research & Development]  Department[T.Sales]  \\\n",
      "338         1.0                                   0.0                  1.0   \n",
      "363         1.0                                   0.0                  1.0   \n",
      "759         1.0                                   0.0                  0.0   \n",
      "793         1.0                                   1.0                  0.0   \n",
      "581         1.0                                   1.0                  0.0   \n",
      "...         ...                                   ...                  ...   \n",
      "763         1.0                                   0.0                  1.0   \n",
      "835         1.0                                   0.0                  0.0   \n",
      "1216        1.0                                   0.0                  1.0   \n",
      "559         1.0                                   1.0                  0.0   \n",
      "684         1.0                                   0.0                  1.0   \n",
      "\n",
      "      EducationField[T.Life Sciences]  EducationField[T.Marketing]  \\\n",
      "338                               0.0                          1.0   \n",
      "363                               0.0                          1.0   \n",
      "759                               0.0                          0.0   \n",
      "793                               1.0                          0.0   \n",
      "581                               1.0                          0.0   \n",
      "...                               ...                          ...   \n",
      "763                               1.0                          0.0   \n",
      "835                               0.0                          0.0   \n",
      "1216                              0.0                          0.0   \n",
      "559                               0.0                          0.0   \n",
      "684                               0.0                          1.0   \n",
      "\n",
      "      EducationField[T.Medical]  EducationField[T.Other]  \\\n",
      "338                         0.0                      0.0   \n",
      "363                         0.0                      0.0   \n",
      "759                         1.0                      0.0   \n",
      "793                         0.0                      0.0   \n",
      "581                         0.0                      0.0   \n",
      "...                         ...                      ...   \n",
      "763                         0.0                      0.0   \n",
      "835                         0.0                      0.0   \n",
      "1216                        1.0                      0.0   \n",
      "559                         1.0                      0.0   \n",
      "684                         0.0                      0.0   \n",
      "\n",
      "      EducationField[T.Technical Degree]   Age  DistanceFromHome  Education  \\\n",
      "338                                  0.0  30.0               5.0        3.0   \n",
      "363                                  0.0  33.0               5.0        3.0   \n",
      "759                                  0.0  45.0              24.0        4.0   \n",
      "793                                  0.0  28.0              15.0        2.0   \n",
      "581                                  0.0  30.0               1.0        3.0   \n",
      "...                                  ...   ...               ...        ...   \n",
      "763                                  0.0  34.0              10.0        4.0   \n",
      "835                                  1.0  35.0               8.0        4.0   \n",
      "1216                                 0.0  43.0               2.0        3.0   \n",
      "559                                  0.0  38.0               2.0        5.0   \n",
      "684                                  0.0  40.0              10.0        4.0   \n",
      "\n",
      "      YearsAtCompany  \n",
      "338             10.0  \n",
      "363              1.0  \n",
      "759              6.0  \n",
      "793              4.0  \n",
      "581              2.0  \n",
      "...              ...  \n",
      "763              1.0  \n",
      "835              5.0  \n",
      "1216            10.0  \n",
      "559              1.0  \n",
      "684              1.0  \n",
      "\n",
      "[1029 rows x 12 columns]\n"
     ]
    }
   ],
   "source": [
    "print (X_train)      "
   ]
  },
  {
   "cell_type": "code",
   "execution_count": null,
   "metadata": {},
   "outputs": [],
   "source": []
  },
  {
   "cell_type": "code",
   "execution_count": 155,
   "metadata": {},
   "outputs": [
    {
     "name": "stdout",
     "output_type": "stream",
     "text": [
      "[[1.00000000e+00 4.21842405e-56]]\n"
     ]
    }
   ],
   "source": [
    "#add random values to KK according to the parameters mentioned above to check the proabily of attrition of the employee\n",
    "kk=[[1.0, 23.0, 1.0, 500.0, 3.0, 24.0, 1.0, 2.0, 3.0, 5.0, 4.0, 28.0]]\n",
    "print(model.predict_proba(kk))"
   ]
  }
 ],
 "metadata": {
  "kernelspec": {
   "display_name": "Python 3 (ipykernel)",
   "language": "python",
   "name": "python3"
  },
  "language_info": {
   "codemirror_mode": {
    "name": "ipython",
    "version": 3
   },
   "file_extension": ".py",
   "mimetype": "text/x-python",
   "name": "python",
   "nbconvert_exporter": "python",
   "pygments_lexer": "ipython3",
   "version": "3.9.7"
  }
 },
 "nbformat": 4,
 "nbformat_minor": 2
}
